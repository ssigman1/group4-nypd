{
  "nbformat": 4,
  "nbformat_minor": 0,
  "metadata": {
    "colab": {
      "provenance": []
    },
    "kernelspec": {
      "name": "python3",
      "display_name": "Python 3"
    },
    "language_info": {
      "name": "python"
    }
  },
  "cells": [
    {
      "cell_type": "markdown",
      "source": [
        "# Import Libraries\n",
        "\n"
      ],
      "metadata": {
        "id": "5w1s7irErnHY"
      }
    },
    {
      "cell_type": "code",
      "source": [
        "import pandas as pd\n",
        "import numpy as np\n",
        "import requests\n",
        "import geopandas as gpd"
      ],
      "metadata": {
        "id": "h2x2oE9Yvwt0"
      },
      "execution_count": 1,
      "outputs": []
    },
    {
      "cell_type": "markdown",
      "source": [
        "### IGNORED, DISMISSED: How the NYPD Neglects 311 Complaints about Driver Misconduct\n",
        "\n",
        "1. Go to the New Data Portal: https://opendata.cityofnewyork.us/\n",
        "2. Find each dataset. 311 requests and police precinct\n",
        "3. Add a data notes section to your github readme. This should include information about the source of your data, where it came from, how often it is updated, and the period of data it contains (e.g. 2010-present or 2012 to 2019)\n",
        "4. Lastly, test that this import works. This may take a while as the dataset is large."
      ],
      "metadata": {
        "id": "-rrOy9KSwD8t"
      }
    },
    {
      "cell_type": "code",
      "source": [
        "# query NYC 311 for driver misconduct\n",
        "# value list\n",
        "complaint_types_dm = ('Blocked Bike Lane', 'Blocked Crosswalk', 'Blocked Hydrant', 'Blocked Sidewalk', 'Chronic Speeding', 'Chronic Stoplight Violation','Detached Trailer', 'Double Parked Blocking Traffic',\n",
        "       'Double Parked Blocking Vehicle', 'Drag Racing',\n",
        "       'Overnight Commercial Storage', 'Parking Permit Improper Use',\n",
        "       'Posted Parking Sign Violation', 'Truck Route Violation',\n",
        "       'Unauthorized Bus Layover', 'Abandoned Vehicle With License Plate' )\n",
        "query = \"https://data.cityofnewyork.us/resource/erm2-nwe9.csv?$query=\" +  requests.utils.quote(f\"SELECT * WHERE descriptor IN {complaint_types_dm}  LIMIT 3000000\")\n",
        "dm  = pd.read_csv(query)"
      ],
      "metadata": {
        "id": "Pk8ddfJnxxyW"
      },
      "execution_count": null,
      "outputs": []
    },
    {
      "cell_type": "code",
      "source": [
        "# get police precint data\n",
        "\n",
        "police = gpd.read_file('https://data.cityofnewyork.us/api/geospatial/78dh-3ptz?method=export&format=GeoJSON')"
      ],
      "metadata": {
        "id": "gWZTi7f33yRV"
      },
      "execution_count": null,
      "outputs": []
    },
    {
      "cell_type": "markdown",
      "source": [
        "#Inspecting the Data\n",
        "* .head()\n",
        "* .tail()\n",
        "* .columns\n",
        "* .info()\n",
        "* .shape"
      ],
      "metadata": {
        "id": "o4whFApm5o98"
      }
    },
    {
      "cell_type": "code",
      "source": [
        "dm.head(5)"
      ],
      "metadata": {
        "id": "kXKBIXvTlsH2"
      },
      "execution_count": null,
      "outputs": []
    },
    {
      "cell_type": "code",
      "source": [
        "police.head(5)"
      ],
      "metadata": {
        "id": "hUAwFoQylvnS"
      },
      "execution_count": null,
      "outputs": []
    },
    {
      "cell_type": "code",
      "source": [
        "dm.tail(5)"
      ],
      "metadata": {
        "id": "RQtC0QsCl4IV"
      },
      "execution_count": null,
      "outputs": []
    },
    {
      "cell_type": "code",
      "source": [
        "police.tail(5)"
      ],
      "metadata": {
        "id": "mksF2F5Kl5hU"
      },
      "execution_count": null,
      "outputs": []
    },
    {
      "cell_type": "code",
      "source": [
        "dm.columns"
      ],
      "metadata": {
        "id": "ySZasyDRl66G"
      },
      "execution_count": null,
      "outputs": []
    },
    {
      "cell_type": "code",
      "source": [
        "police.columns"
      ],
      "metadata": {
        "id": "NaR6GGO6l-UP"
      },
      "execution_count": null,
      "outputs": []
    },
    {
      "cell_type": "code",
      "source": [
        "dm.info()"
      ],
      "metadata": {
        "id": "EBuC-gXTmAry"
      },
      "execution_count": null,
      "outputs": []
    },
    {
      "cell_type": "code",
      "source": [
        "police.info()"
      ],
      "metadata": {
        "id": "ZDIRhXi5mDDS"
      },
      "execution_count": null,
      "outputs": []
    },
    {
      "cell_type": "code",
      "source": [
        "dm.shape"
      ],
      "metadata": {
        "id": "1vpTHY7vmEB3"
      },
      "execution_count": null,
      "outputs": []
    },
    {
      "cell_type": "code",
      "source": [
        "police.shape"
      ],
      "metadata": {
        "id": "aLvcgd3FmGmr"
      },
      "execution_count": null,
      "outputs": []
    },
    {
      "cell_type": "markdown",
      "source": [
        "#Creating Column \"Duration\"\n",
        "* a column based on two other columns"
      ],
      "metadata": {
        "id": "KDhi6_Yr5-73"
      }
    },
    {
      "cell_type": "code",
      "source": [
        "dm['created_date'] = pd.to_datetime(dm['created_date'])\n",
        "dm['closed_date'] = pd.to_datetime(dm['closed_date'])\n",
        "dm['duration'] = dm['closed_date'] - dm['created_date']"
      ],
      "metadata": {
        "id": "0MAG2PqbmIMz"
      },
      "execution_count": null,
      "outputs": []
    },
    {
      "cell_type": "markdown",
      "source": [
        "#Filter\n",
        "Response times under 5 minutes\n",
        "* pd.Timedelta()\n",
        "\n",
        "    (one method we didn’t learn in class by reviewing documentation\n",
        "from a Python library)"
      ],
      "metadata": {
        "id": "6ItBMBmt6JZO"
      }
    },
    {
      "cell_type": "code",
      "source": [
        "dm_filtered = dm[dm['duration'] <= pd.Timedelta(minutes=5)]\n",
        "dm.sample(5)"
      ],
      "metadata": {
        "id": "_ZQ3hPWM6UYk"
      },
      "execution_count": null,
      "outputs": []
    },
    {
      "cell_type": "markdown",
      "source": [
        "#Add Column"
      ],
      "metadata": {
        "id": "OBHHiHXC-erP"
      }
    },
    {
      "cell_type": "code",
      "source": [
        "data = dm_filtered['created_date'].value_counts()"
      ],
      "metadata": {
        "id": "89HyL2sl6lwN"
      },
      "execution_count": null,
      "outputs": []
    },
    {
      "cell_type": "code",
      "source": [
        "def get_day_of_week(date_str):\n",
        "    date_obj = pd.to_datetime(date_str)\n",
        "    return date_obj.day_name()\n",
        "\n",
        "\n",
        "dm_filtered.loc[:, 'day_of_week'] = dm_filtered['created_date'].apply(get_day_of_week)\n",
        "\n",
        "\n",
        "day_counts = dm_filtered.groupby('day_of_week').size().reset_index(name='day_count')\n",
        "\n",
        "\n",
        "dm_filtered.sample()"
      ],
      "metadata": {
        "id": "3kJAvDdn7zG5"
      },
      "execution_count": null,
      "outputs": []
    },
    {
      "cell_type": "markdown",
      "source": [
        "#Loop and Conditional Statement"
      ],
      "metadata": {
        "id": "TOinrHiy8M3n"
      }
    },
    {
      "cell_type": "code",
      "source": [
        "for index, row in dm_filtered.iterrows():\n",
        "    duration = pd.to_timedelta(row['duration'])\n",
        "    if duration.seconds < 60:\n",
        "        duration = str(duration.seconds) + \" seconds\"\n",
        "    else:\n",
        "        minutes = duration.seconds // 60\n",
        "        seconds = duration.seconds % 60\n",
        "        duration = str(minutes) + \" minutes and \" + str(seconds) + \" seconds\"\n",
        "    dm_filtered.at[index, 'duration'] = duration"
      ],
      "metadata": {
        "id": "MUEQZgrV8L9j"
      },
      "execution_count": null,
      "outputs": []
    }
  ]
}