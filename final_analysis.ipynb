{
  "nbformat": 4,
  "nbformat_minor": 0,
  "metadata": {
    "colab": {
      "provenance": []
    },
    "kernelspec": {
      "name": "python3",
      "display_name": "Python 3"
    },
    "language_info": {
      "name": "python"
    }
  },
  "cells": [
    {
      "cell_type": "code",
      "execution_count": null,
      "metadata": {
        "id": "qLGopiuB6dH8"
      },
      "outputs": [],
      "source": []
    },
    {
      "cell_type": "markdown",
      "source": [
        "# Import Libraries\n",
        "\n"
      ],
      "metadata": {
        "id": "5w1s7irErnHY"
      }
    },
    {
      "cell_type": "code",
      "source": [
        "import pandas as pd\n",
        "import numpy as np\n",
        "import requests\n",
        "import geopandas as gpd"
      ],
      "metadata": {
        "id": "h2x2oE9Yvwt0"
      },
      "execution_count": null,
      "outputs": []
    },
    {
      "cell_type": "markdown",
      "source": [
        "### IGNORED, DISMISSED: How the NYPD Neglects 311 Complaints about Driver Misconduct\n",
        "\n",
        "1. Go to the New Data Portal: https://opendata.cityofnewyork.us/\n",
        "2. Find each dataset. 311 requests and police precinct\n",
        "3. Add a data notes section to your github readme. This should include information about the source of your data, where it came from, how often it is updated, and the period of data it contains (e.g. 2010-present or 2012 to 2019)\n",
        "4. Lastly, test that this import works. This may take a while as the dataset is large."
      ],
      "metadata": {
        "id": "-rrOy9KSwD8t"
      }
    },
    {
      "cell_type": "code",
      "source": [
        "# query NYC 311 for driver misconduct\n",
        "# value list\n",
        "complaint_types_dm = ('Blocked Bike Lane', 'Blocked Crosswalk', 'Blocked Hydrant', 'Blocked Sidewalk', 'Chronic Speeding', 'Chronic Stoplight Violation','Detached Trailer', 'Double Parked Blocking Traffic',\n",
        "       'Double Parked Blocking Vehicle', 'Drag Racing',\n",
        "       'Overnight Commercial Storage', 'Parking Permit Improper Use',\n",
        "       'Posted Parking Sign Violation', 'Truck Route Violation',\n",
        "       'Unauthorized Bus Layover', 'Abandoned Vehicle With License Plate' )\n",
        "query = \"https://data.cityofnewyork.us/resource/erm2-nwe9.csv?$query=\" +  requests.utils.quote(f\"SELECT * WHERE descriptor IN {complaint_types_dm}  LIMIT 3000000\")\n",
        "dm  = pd.read_csv(query)"
      ],
      "metadata": {
        "colab": {
          "base_uri": "https://localhost:8080/"
        },
        "id": "Pk8ddfJnxxyW",
        "outputId": "ed40239b-e538-4632-93e1-d915cd503b90"
      },
      "execution_count": null,
      "outputs": [
        {
          "output_type": "stream",
          "name": "stderr",
          "text": [
            "<ipython-input-225-c56bcde3c9d2>:9: DtypeWarning: Columns (15,17,18,20,31,34,35,36,37) have mixed types. Specify dtype option on import or set low_memory=False.\n",
            "  dm  = pd.read_csv(query)\n"
          ]
        }
      ]
    },
    {
      "cell_type": "code",
      "source": [
        "# get police precint data\n",
        "\n",
        "police = gpd.read_file('https://data.cityofnewyork.us/api/geospatial/78dh-3ptz?method=export&format=GeoJSON')"
      ],
      "metadata": {
        "id": "gWZTi7f33yRV"
      },
      "execution_count": null,
      "outputs": []
    }
  ]
}